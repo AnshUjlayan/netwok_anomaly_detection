{
 "cells": [
  {
   "cell_type": "code",
   "execution_count": 45,
   "id": "e9ed7b30",
   "metadata": {},
   "outputs": [],
   "source": [
    "import pandas as pd\n",
    "check_small_6 = pd.read_csv('major/day_mj_6.csv')"
   ]
  },
  {
   "cell_type": "code",
   "execution_count": 46,
   "id": "27be49f5",
   "metadata": {},
   "outputs": [],
   "source": [
    "# import sklearn\n",
    "# from sklearn.model_selection import train_test_split\n",
    "# RANDOM_STATE_SEED = 420\n",
    "# check_6, check_small_6 = train_test_split(major_6, test_size=0.005, random_state=RANDOM_STATE_SEED)"
   ]
  },
  {
   "cell_type": "code",
   "execution_count": 47,
   "id": "2c65fa38",
   "metadata": {},
   "outputs": [
    {
     "data": {
      "text/html": [
       "<div>\n",
       "<style scoped>\n",
       "    .dataframe tbody tr th:only-of-type {\n",
       "        vertical-align: middle;\n",
       "    }\n",
       "\n",
       "    .dataframe tbody tr th {\n",
       "        vertical-align: top;\n",
       "    }\n",
       "\n",
       "    .dataframe thead th {\n",
       "        text-align: right;\n",
       "    }\n",
       "</style>\n",
       "<table border=\"1\" class=\"dataframe\">\n",
       "  <thead>\n",
       "    <tr style=\"text-align: right;\">\n",
       "      <th></th>\n",
       "      <th>Dst Port</th>\n",
       "      <th>Protocol</th>\n",
       "      <th>Timestamp</th>\n",
       "      <th>Flow Duration</th>\n",
       "      <th>Tot Fwd Pkts</th>\n",
       "      <th>Tot Bwd Pkts</th>\n",
       "      <th>TotLen Fwd Pkts</th>\n",
       "      <th>TotLen Bwd Pkts</th>\n",
       "      <th>Fwd Pkt Len Max</th>\n",
       "      <th>Fwd Pkt Len Min</th>\n",
       "      <th>...</th>\n",
       "      <th>Fwd Seg Size Min</th>\n",
       "      <th>Active Mean</th>\n",
       "      <th>Active Std</th>\n",
       "      <th>Active Max</th>\n",
       "      <th>Active Min</th>\n",
       "      <th>Idle Mean</th>\n",
       "      <th>Idle Std</th>\n",
       "      <th>Idle Max</th>\n",
       "      <th>Idle Min</th>\n",
       "      <th>Label</th>\n",
       "    </tr>\n",
       "  </thead>\n",
       "  <tbody>\n",
       "    <tr>\n",
       "      <th>0</th>\n",
       "      <td>65517</td>\n",
       "      <td>6</td>\n",
       "      <td>2018-02-22 03:21:15</td>\n",
       "      <td>54</td>\n",
       "      <td>2</td>\n",
       "      <td>0</td>\n",
       "      <td>0</td>\n",
       "      <td>0</td>\n",
       "      <td>0</td>\n",
       "      <td>0</td>\n",
       "      <td>...</td>\n",
       "      <td>20</td>\n",
       "      <td>0.0</td>\n",
       "      <td>0.0</td>\n",
       "      <td>0</td>\n",
       "      <td>0</td>\n",
       "      <td>0.0</td>\n",
       "      <td>0.0</td>\n",
       "      <td>0</td>\n",
       "      <td>0</td>\n",
       "      <td>0</td>\n",
       "    </tr>\n",
       "    <tr>\n",
       "      <th>1</th>\n",
       "      <td>5355</td>\n",
       "      <td>17</td>\n",
       "      <td>2018-02-22 03:28:29</td>\n",
       "      <td>408909</td>\n",
       "      <td>2</td>\n",
       "      <td>0</td>\n",
       "      <td>44</td>\n",
       "      <td>0</td>\n",
       "      <td>22</td>\n",
       "      <td>22</td>\n",
       "      <td>...</td>\n",
       "      <td>8</td>\n",
       "      <td>0.0</td>\n",
       "      <td>0.0</td>\n",
       "      <td>0</td>\n",
       "      <td>0</td>\n",
       "      <td>0.0</td>\n",
       "      <td>0.0</td>\n",
       "      <td>0</td>\n",
       "      <td>0</td>\n",
       "      <td>0</td>\n",
       "    </tr>\n",
       "    <tr>\n",
       "      <th>2</th>\n",
       "      <td>19602</td>\n",
       "      <td>6</td>\n",
       "      <td>2018-02-22 12:54:47</td>\n",
       "      <td>158</td>\n",
       "      <td>2</td>\n",
       "      <td>0</td>\n",
       "      <td>0</td>\n",
       "      <td>0</td>\n",
       "      <td>0</td>\n",
       "      <td>0</td>\n",
       "      <td>...</td>\n",
       "      <td>20</td>\n",
       "      <td>0.0</td>\n",
       "      <td>0.0</td>\n",
       "      <td>0</td>\n",
       "      <td>0</td>\n",
       "      <td>0.0</td>\n",
       "      <td>0.0</td>\n",
       "      <td>0</td>\n",
       "      <td>0</td>\n",
       "      <td>0</td>\n",
       "    </tr>\n",
       "    <tr>\n",
       "      <th>3</th>\n",
       "      <td>80</td>\n",
       "      <td>6</td>\n",
       "      <td>2018-02-22 02:19:00</td>\n",
       "      <td>54328244</td>\n",
       "      <td>2</td>\n",
       "      <td>0</td>\n",
       "      <td>0</td>\n",
       "      <td>0</td>\n",
       "      <td>0</td>\n",
       "      <td>0</td>\n",
       "      <td>...</td>\n",
       "      <td>20</td>\n",
       "      <td>0.0</td>\n",
       "      <td>0.0</td>\n",
       "      <td>0</td>\n",
       "      <td>0</td>\n",
       "      <td>0.0</td>\n",
       "      <td>0.0</td>\n",
       "      <td>0</td>\n",
       "      <td>0</td>\n",
       "      <td>0</td>\n",
       "    </tr>\n",
       "    <tr>\n",
       "      <th>4</th>\n",
       "      <td>53</td>\n",
       "      <td>17</td>\n",
       "      <td>2018-02-22 10:36:14</td>\n",
       "      <td>881</td>\n",
       "      <td>1</td>\n",
       "      <td>1</td>\n",
       "      <td>32</td>\n",
       "      <td>128</td>\n",
       "      <td>32</td>\n",
       "      <td>32</td>\n",
       "      <td>...</td>\n",
       "      <td>8</td>\n",
       "      <td>0.0</td>\n",
       "      <td>0.0</td>\n",
       "      <td>0</td>\n",
       "      <td>0</td>\n",
       "      <td>0.0</td>\n",
       "      <td>0.0</td>\n",
       "      <td>0</td>\n",
       "      <td>0</td>\n",
       "      <td>0</td>\n",
       "    </tr>\n",
       "  </tbody>\n",
       "</table>\n",
       "<p>5 rows × 70 columns</p>\n",
       "</div>"
      ],
      "text/plain": [
       "   Dst Port  Protocol            Timestamp  Flow Duration  Tot Fwd Pkts  \\\n",
       "0     65517         6  2018-02-22 03:21:15             54             2   \n",
       "1      5355        17  2018-02-22 03:28:29         408909             2   \n",
       "2     19602         6  2018-02-22 12:54:47            158             2   \n",
       "3        80         6  2018-02-22 02:19:00       54328244             2   \n",
       "4        53        17  2018-02-22 10:36:14            881             1   \n",
       "\n",
       "   Tot Bwd Pkts  TotLen Fwd Pkts  TotLen Bwd Pkts  Fwd Pkt Len Max  \\\n",
       "0             0                0                0                0   \n",
       "1             0               44                0               22   \n",
       "2             0                0                0                0   \n",
       "3             0                0                0                0   \n",
       "4             1               32              128               32   \n",
       "\n",
       "   Fwd Pkt Len Min  ...  Fwd Seg Size Min  Active Mean  Active Std  \\\n",
       "0                0  ...                20          0.0         0.0   \n",
       "1               22  ...                 8          0.0         0.0   \n",
       "2                0  ...                20          0.0         0.0   \n",
       "3                0  ...                20          0.0         0.0   \n",
       "4               32  ...                 8          0.0         0.0   \n",
       "\n",
       "   Active Max  Active Min  Idle Mean  Idle Std  Idle Max  Idle Min  Label  \n",
       "0           0           0        0.0       0.0         0         0      0  \n",
       "1           0           0        0.0       0.0         0         0      0  \n",
       "2           0           0        0.0       0.0         0         0      0  \n",
       "3           0           0        0.0       0.0         0         0      0  \n",
       "4           0           0        0.0       0.0         0         0      0  \n",
       "\n",
       "[5 rows x 70 columns]"
      ]
     },
     "execution_count": 47,
     "metadata": {},
     "output_type": "execute_result"
    }
   ],
   "source": [
    "check_small_6.head()"
   ]
  },
  {
   "cell_type": "code",
   "execution_count": 48,
   "id": "88a97ebe",
   "metadata": {},
   "outputs": [
    {
     "data": {
      "text/plain": [
       "(833386, 70)"
      ]
     },
     "execution_count": 48,
     "metadata": {},
     "output_type": "execute_result"
    }
   ],
   "source": [
    "check_small_6.shape"
   ]
  },
  {
   "cell_type": "code",
   "execution_count": 49,
   "id": "eaebf6a0",
   "metadata": {},
   "outputs": [
    {
     "data": {
      "text/plain": [
       "array([0, 1])"
      ]
     },
     "execution_count": 49,
     "metadata": {},
     "output_type": "execute_result"
    }
   ],
   "source": [
    "check_small_6[\"Label\"].unique()"
   ]
  },
  {
   "cell_type": "code",
   "execution_count": 50,
   "id": "a1bff4b6",
   "metadata": {},
   "outputs": [
    {
     "name": "stdout",
     "output_type": "stream",
     "text": [
      "833094\n",
      "292\n"
     ]
    }
   ],
   "source": [
    "print(check_small_6[\"Label\"].value_counts()[[0]].sum())\n",
    "print(check_small_6[\"Label\"].value_counts()[[1]].sum())"
   ]
  },
  {
   "cell_type": "code",
   "execution_count": 51,
   "id": "411d247b",
   "metadata": {},
   "outputs": [],
   "source": [
    "# Convert the timestamp column to datetime format\n",
    "check_small_6['Timestamp'] = pd.to_datetime(check_small_6['Timestamp'])\n"
   ]
  },
  {
   "cell_type": "code",
   "execution_count": 52,
   "id": "201b28c0",
   "metadata": {},
   "outputs": [
    {
     "name": "stdout",
     "output_type": "stream",
     "text": [
      "Dst Port [<class 'int'>]\n",
      "Protocol [<class 'int'>]\n",
      "Timestamp [<class 'pandas._libs.tslibs.timestamps.Timestamp'>]\n",
      "Flow Duration [<class 'int'>]\n",
      "Tot Fwd Pkts [<class 'int'>]\n",
      "Tot Bwd Pkts [<class 'int'>]\n",
      "TotLen Fwd Pkts [<class 'int'>]\n",
      "TotLen Bwd Pkts [<class 'int'>]\n",
      "Fwd Pkt Len Max [<class 'int'>]\n",
      "Fwd Pkt Len Min [<class 'int'>]\n",
      "Fwd Pkt Len Mean [<class 'float'>]\n",
      "Fwd Pkt Len Std [<class 'float'>]\n",
      "Bwd Pkt Len Max [<class 'int'>]\n",
      "Bwd Pkt Len Min [<class 'int'>]\n",
      "Bwd Pkt Len Mean [<class 'float'>]\n",
      "Bwd Pkt Len Std [<class 'float'>]\n",
      "Flow Byts/s [<class 'float'>]\n",
      "Flow Pkts/s [<class 'float'>]\n",
      "Flow IAT Mean [<class 'float'>]\n",
      "Flow IAT Std [<class 'float'>]\n",
      "Flow IAT Max [<class 'int'>]\n",
      "Flow IAT Min [<class 'int'>]\n",
      "Fwd IAT Tot [<class 'int'>]\n",
      "Fwd IAT Mean [<class 'float'>]\n",
      "Fwd IAT Std [<class 'float'>]\n",
      "Fwd IAT Max [<class 'int'>]\n",
      "Fwd IAT Min [<class 'int'>]\n",
      "Bwd IAT Tot [<class 'int'>]\n",
      "Bwd IAT Mean [<class 'float'>]\n",
      "Bwd IAT Std [<class 'float'>]\n",
      "Bwd IAT Max [<class 'int'>]\n",
      "Bwd IAT Min [<class 'int'>]\n",
      "Fwd PSH Flags [<class 'int'>]\n",
      "Fwd Header Len [<class 'int'>]\n",
      "Bwd Header Len [<class 'int'>]\n",
      "Fwd Pkts/s [<class 'float'>]\n",
      "Bwd Pkts/s [<class 'float'>]\n",
      "Pkt Len Min [<class 'int'>]\n",
      "Pkt Len Max [<class 'int'>]\n",
      "Pkt Len Mean [<class 'float'>]\n",
      "Pkt Len Std [<class 'float'>]\n",
      "Pkt Len Var [<class 'float'>]\n",
      "FIN Flag Cnt [<class 'int'>]\n",
      "SYN Flag Cnt [<class 'int'>]\n",
      "RST Flag Cnt [<class 'int'>]\n",
      "PSH Flag Cnt [<class 'int'>]\n",
      "ACK Flag Cnt [<class 'int'>]\n",
      "URG Flag Cnt [<class 'int'>]\n",
      "ECE Flag Cnt [<class 'int'>]\n",
      "Down/Up Ratio [<class 'int'>]\n",
      "Pkt Size Avg [<class 'float'>]\n",
      "Fwd Seg Size Avg [<class 'float'>]\n",
      "Bwd Seg Size Avg [<class 'float'>]\n",
      "Subflow Fwd Pkts [<class 'int'>]\n",
      "Subflow Fwd Byts [<class 'int'>]\n",
      "Subflow Bwd Pkts [<class 'int'>]\n",
      "Subflow Bwd Byts [<class 'int'>]\n",
      "Init Fwd Win Byts [<class 'int'>]\n",
      "Init Bwd Win Byts [<class 'int'>]\n",
      "Fwd Act Data Pkts [<class 'int'>]\n",
      "Fwd Seg Size Min [<class 'int'>]\n",
      "Active Mean [<class 'float'>]\n",
      "Active Std [<class 'float'>]\n",
      "Active Max [<class 'int'>]\n",
      "Active Min [<class 'int'>]\n",
      "Idle Mean [<class 'float'>]\n",
      "Idle Std [<class 'float'>]\n",
      "Idle Max [<class 'int'>]\n",
      "Idle Min [<class 'int'>]\n",
      "Label [<class 'int'>]\n"
     ]
    }
   ],
   "source": [
    "for col in check_small_6.columns:\n",
    "    print(col, check_small_6[col].apply(type).unique())"
   ]
  },
  {
   "cell_type": "code",
   "execution_count": 55,
   "id": "15fc9955",
   "metadata": {},
   "outputs": [],
   "source": [
    "check_small_6 = check_small_6.drop('Timestamp', axis=1)"
   ]
  },
  {
   "cell_type": "code",
   "execution_count": 56,
   "id": "d02a4114",
   "metadata": {},
   "outputs": [],
   "source": [
    "import numpy as np\n",
    "# Replace infinite values with NaN\n",
    "check_small_6.replace([np.inf, -np.inf], np.nan, inplace=True)\n",
    "\n",
    "check_small_6.dropna(inplace=True)\n",
    "check_small_6.drop_duplicates(inplace=True)"
   ]
  },
  {
   "cell_type": "code",
   "execution_count": 57,
   "id": "04fe7098",
   "metadata": {},
   "outputs": [
    {
     "name": "stdout",
     "output_type": "stream",
     "text": [
      "0    727485\n",
      "1    727485\n",
      "Name: Label, dtype: int64\n"
     ]
    }
   ],
   "source": [
    "from imblearn.over_sampling import SMOTE\n",
    "\n",
    "# Split the dataset into features and target variable\n",
    "X = check_small_6.drop('Label', axis=1)\n",
    "y = check_small_6['Label']\n",
    "\n",
    "# Create a SMOTE object\n",
    "smote = SMOTE(random_state=42, k_neighbors=12)\n",
    "\n",
    "# Apply SMOTE to the dataset\n",
    "X_resampled, y_resampled = smote.fit_resample(X, y)\n",
    "\n",
    "# Concatenate the resampled data into a new DataFrame\n",
    "resampled_df = pd.concat([pd.DataFrame(X_resampled), pd.Series(y_resampled)], axis=1)\n",
    "resampled_df.columns = check_small_6.columns\n",
    "\n",
    "# Print the value counts of the target variable in the resampled data\n",
    "print(resampled_df['Label'].value_counts())"
   ]
  },
  {
   "cell_type": "code",
   "execution_count": 65,
   "id": "beea6147",
   "metadata": {},
   "outputs": [
    {
     "ename": "NameError",
     "evalue": "name 'Counter' is not defined",
     "output_type": "error",
     "traceback": [
      "\u001b[0;31m---------------------------------------------------------------------------\u001b[0m",
      "\u001b[0;31mNameError\u001b[0m                                 Traceback (most recent call last)",
      "\u001b[0;32m/var/folders/7t/6qs561wj79vg29_cgy74ngwh0000gn/T/ipykernel_65569/3852487767.py\u001b[0m in \u001b[0;36m<module>\u001b[0;34m\u001b[0m\n\u001b[1;32m      6\u001b[0m \u001b[0;34m\u001b[0m\u001b[0m\n\u001b[1;32m      7\u001b[0m \u001b[0;31m# Plot a scatter diagram of the dataset with labels as different colors\u001b[0m\u001b[0;34m\u001b[0m\u001b[0;34m\u001b[0m\u001b[0m\n\u001b[0;32m----> 8\u001b[0;31m \u001b[0mcounter\u001b[0m \u001b[0;34m=\u001b[0m \u001b[0mCounter\u001b[0m\u001b[0;34m(\u001b[0m\u001b[0my\u001b[0m\u001b[0;34m)\u001b[0m\u001b[0;34m\u001b[0m\u001b[0;34m\u001b[0m\u001b[0m\n\u001b[0m\u001b[1;32m      9\u001b[0m \u001b[0;32mfor\u001b[0m \u001b[0mlabel\u001b[0m\u001b[0;34m,\u001b[0m \u001b[0m_\u001b[0m \u001b[0;32min\u001b[0m \u001b[0mresampled_df\u001b[0m\u001b[0;34m.\u001b[0m\u001b[0mitems\u001b[0m\u001b[0;34m(\u001b[0m\u001b[0;34m)\u001b[0m\u001b[0;34m:\u001b[0m\u001b[0;34m\u001b[0m\u001b[0;34m\u001b[0m\u001b[0m\n\u001b[1;32m     10\u001b[0m     \u001b[0mrow_ix\u001b[0m \u001b[0;34m=\u001b[0m \u001b[0mwhere\u001b[0m\u001b[0;34m(\u001b[0m\u001b[0my\u001b[0m \u001b[0;34m==\u001b[0m \u001b[0mlabel\u001b[0m\u001b[0;34m)\u001b[0m\u001b[0;34m[\u001b[0m\u001b[0;36m0\u001b[0m\u001b[0;34m]\u001b[0m\u001b[0;34m\u001b[0m\u001b[0;34m\u001b[0m\u001b[0m\n",
      "\u001b[0;31mNameError\u001b[0m: name 'Counter' is not defined"
     ]
    }
   ],
   "source": [
    "import matplotlib.pyplot as plt\n",
    "\n",
    "# Split the dataset into features and target variable\n",
    "X = resampled_df.drop('Label', axis=1)\n",
    "y = resampled_df['Label']\n",
    "\n",
    "# Plot a scatter diagram of the dataset with labels as different colors\n",
    "counter = Counter(y)\n",
    "for label, _ in counter.items():\n",
    "    row_ix = where(y == label)[0]\n",
    "    if label == 0:\n",
    "        plt.scatter(X.iloc[row_ix, 0], X.iloc[row_ix, 1], label=str(label), color='blue')\n",
    "    else:\n",
    "        plt.scatter(X.iloc[row_ix, 0], X.iloc[row_ix, 1], label=str(label), color='yellow')\n",
    "plt.legend()\n",
    "plt.show()\n",
    "\n"
   ]
  },
  {
   "cell_type": "code",
   "execution_count": null,
   "id": "cd2857ee",
   "metadata": {},
   "outputs": [],
   "source": []
  }
 ],
 "metadata": {
  "kernelspec": {
   "display_name": "Python 3 (ipykernel)",
   "language": "python",
   "name": "python3"
  },
  "language_info": {
   "codemirror_mode": {
    "name": "ipython",
    "version": 3
   },
   "file_extension": ".py",
   "mimetype": "text/x-python",
   "name": "python",
   "nbconvert_exporter": "python",
   "pygments_lexer": "ipython3",
   "version": "3.9.13"
  }
 },
 "nbformat": 4,
 "nbformat_minor": 5
}

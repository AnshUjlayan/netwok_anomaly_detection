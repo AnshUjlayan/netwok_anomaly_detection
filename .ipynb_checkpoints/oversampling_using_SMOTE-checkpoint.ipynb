{
 "cells": [
  {
   "cell_type": "markdown",
   "id": "13b09374",
   "metadata": {},
   "source": [
    "# data_cleaning"
   ]
  },
  {
   "cell_type": "code",
   "execution_count": null,
   "id": "213bbbeb",
   "metadata": {},
   "outputs": [],
   "source": [
    "import pandas as pd\n",
    "from imblearn.over_sampling import SMOTETimeSeries"
   ]
  },
  {
   "cell_type": "code",
   "execution_count": null,
   "id": "909f706e",
   "metadata": {},
   "outputs": [],
   "source": [
    "day_1 = pd.read_csv(\"dataset/02-14-2018.csv\")\n",
    "day_2 = pd.read_csv(\"dataset/02-15-2018.csv\")\n",
    "day_3 = pd.read_csv(\"dataset/02-16-2018.csv\")\n",
    "day_4 = pd.read_csv(\"dataset/02-20-2018.csv\")\n",
    "day_5 = pd.read_csv(\"dataset/02-21-2018.csv\")\n",
    "day_6 = pd.read_csv(\"dataset/02-22-2018.csv\")\n",
    "day_7 = pd.read_csv(\"dataset/02-23-2018.csv\")\n",
    "day_8 = pd.read_csv(\"dataset/02-28-2018.csv\")\n",
    "day_9 = pd.read_csv(\"dataset/03-01-2018.csv\")\n",
    "day_10 = pd.read_csv(\"dataset/03-02-2018.csv\")"
   ]
  },
  {
   "cell_type": "markdown",
   "id": "1ce166e9",
   "metadata": {},
   "source": [
    "## removing erroneous colums"
   ]
  },
  {
   "cell_type": "code",
   "execution_count": null,
   "id": "bb84a7c2",
   "metadata": {
    "scrolled": true
   },
   "outputs": [],
   "source": [
    "# Separate the features and target variable\n",
    "X = day_6.drop(columns=['Label'])\n",
    "y = day_6['Label']\n",
    "\n",
    "# Define the t-SMOTE object\n",
    "smote_ts = SMOTETimeSeries(sampling_strategy={'Brute Force -XSS': 200, 'SQL Injection': 200}, \n",
    "                           ratio='minority', \n",
    "                           k_neighbors=5,\n",
    "                           random_state=42)\n",
    "\n",
    "# Apply t-SMOTE\n",
    "X_resampled, y_resampled = smote_ts.fit_resample(X, y)\n",
    "\n",
    "# Check the class distribution after resampling\n",
    "print(y_resampled.value_counts())"
   ]
  },
  {
   "cell_type": "code",
   "execution_count": null,
   "id": "c2b14d27",
   "metadata": {},
   "outputs": [],
   "source": []
  }
 ],
 "metadata": {
  "kernelspec": {
   "display_name": "Python 3 (ipykernel)",
   "language": "python",
   "name": "python3"
  },
  "language_info": {
   "codemirror_mode": {
    "name": "ipython",
    "version": 3
   },
   "file_extension": ".py",
   "mimetype": "text/x-python",
   "name": "python",
   "nbconvert_exporter": "python",
   "pygments_lexer": "ipython3",
   "version": "3.9.13"
  }
 },
 "nbformat": 4,
 "nbformat_minor": 5
}

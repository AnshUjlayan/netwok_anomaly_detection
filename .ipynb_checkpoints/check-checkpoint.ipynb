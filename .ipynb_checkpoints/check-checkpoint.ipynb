{
 "cells": [
  {
   "cell_type": "markdown",
   "id": "e74e9a5d",
   "metadata": {},
   "source": [
    "# Applying SMOTE on the imbalanced data"
   ]
  },
  {
   "cell_type": "code",
   "execution_count": 1,
   "id": "e9ed7b30",
   "metadata": {},
   "outputs": [],
   "source": [
    "import pandas as pd\n",
    "day_6 = pd.read_csv('train/02-22-2018_clean.csv')\n",
    "day_7 = pd.read_csv('train/02-23-2018_clean.csv')"
   ]
  },
  {
   "cell_type": "code",
   "execution_count": 2,
   "id": "88a97ebe",
   "metadata": {},
   "outputs": [
    {
     "data": {
      "text/plain": [
       "(836237, 71)"
      ]
     },
     "execution_count": 2,
     "metadata": {},
     "output_type": "execute_result"
    }
   ],
   "source": [
    "day_6.shape"
   ]
  },
  {
   "cell_type": "code",
   "execution_count": 7,
   "id": "8adeb75e",
   "metadata": {},
   "outputs": [
    {
     "data": {
      "text/plain": [
       "(836768, 71)"
      ]
     },
     "execution_count": 7,
     "metadata": {},
     "output_type": "execute_result"
    }
   ],
   "source": [
    "day_7.shape"
   ]
  },
  {
   "cell_type": "code",
   "execution_count": 3,
   "id": "eaebf6a0",
   "metadata": {},
   "outputs": [
    {
     "data": {
      "text/plain": [
       "array([0, 2, 5])"
      ]
     },
     "execution_count": 3,
     "metadata": {},
     "output_type": "execute_result"
    }
   ],
   "source": [
    "day_6[\"Label\"].unique()"
   ]
  },
  {
   "cell_type": "code",
   "execution_count": 4,
   "id": "a1bff4b6",
   "metadata": {},
   "outputs": [
    {
     "name": "stdout",
     "output_type": "stream",
     "text": [
      "835946\n",
      "265\n",
      "26\n"
     ]
    }
   ],
   "source": [
    "print(day_6[\"Label\"].value_counts()[[0]].sum())\n",
    "print(day_6[\"Label\"].value_counts()[[2]].sum())\n",
    "print(day_6[\"Label\"].value_counts()[[5]].sum())"
   ]
  },
  {
   "cell_type": "code",
   "execution_count": 8,
   "id": "560bc680",
   "metadata": {},
   "outputs": [
    {
     "data": {
      "text/plain": [
       "array([0, 2, 5])"
      ]
     },
     "execution_count": 8,
     "metadata": {},
     "output_type": "execute_result"
    }
   ],
   "source": [
    "day_7[\"Label\"].unique()"
   ]
  },
  {
   "cell_type": "code",
   "execution_count": 9,
   "id": "28f30685",
   "metadata": {},
   "outputs": [
    {
     "name": "stdout",
     "output_type": "stream",
     "text": [
      "836307\n",
      "421\n",
      "40\n"
     ]
    }
   ],
   "source": [
    "print(day_7[\"Label\"].value_counts()[[0]].sum())\n",
    "print(day_7[\"Label\"].value_counts()[[2]].sum())\n",
    "print(day_7[\"Label\"].value_counts()[[5]].sum())"
   ]
  },
  {
   "cell_type": "code",
   "execution_count": 16,
   "id": "04fe7098",
   "metadata": {},
   "outputs": [
    {
     "name": "stdout",
     "output_type": "stream",
     "text": [
      "0    835946\n",
      "2    835946\n",
      "5    835946\n",
      "Name: Label, dtype: int64\n"
     ]
    }
   ],
   "source": [
    "from imblearn.over_sampling import SMOTE\n",
    "\n",
    "# Split the dataset into features and target variable\n",
    "X = day_6.drop('Label', axis=1)\n",
    "y = day_6['Label']\n",
    "\n",
    "# Create a SMOTE object\n",
    "smote = SMOTE(random_state=42, k_neighbors=12)\n",
    "\n",
    "# Apply SMOTE to the dataset\n",
    "X_resampled, y_resampled = smote.fit_resample(X, y)\n",
    "\n",
    "# Concatenate the resampled data into a new DataFrame\n",
    "resampled_day_6 = pd.concat([pd.DataFrame(X_resampled), pd.Series(y_resampled)], axis=1)\n",
    "resampled_day_6.columns = day_6.columns\n",
    "\n",
    "# Print the value counts of the target variable in the resampled data\n",
    "print(resampled_day_6['Label'].value_counts())"
   ]
  },
  {
   "cell_type": "code",
   "execution_count": 10,
   "id": "6864350f",
   "metadata": {},
   "outputs": [
    {
     "name": "stderr",
     "output_type": "stream",
     "text": [
      "/Users/anshujlayan/opt/anaconda3/lib/python3.9/site-packages/numpy/core/fromnumeric.py:86: RuntimeWarning: overflow encountered in reduce\n",
      "  return ufunc.reduce(obj, axis, dtype, out, **passkwargs)\n"
     ]
    },
    {
     "name": "stdout",
     "output_type": "stream",
     "text": [
      "0    836307\n",
      "2    836307\n",
      "5    836307\n",
      "Name: Label, dtype: int64\n"
     ]
    }
   ],
   "source": [
    "from imblearn.over_sampling import SMOTE\n",
    "\n",
    "# Split the dataset into features and target variable\n",
    "X = day_7.drop('Label', axis=1)\n",
    "y = day_7['Label']\n",
    "\n",
    "# Create a SMOTE object\n",
    "smote = SMOTE(random_state=42, k_neighbors=12)\n",
    "\n",
    "# Apply SMOTE to the dataset\n",
    "X_resampled, y_resampled = smote.fit_resample(X, y)\n",
    "\n",
    "# Concatenate the resampled data into a new DataFrame\n",
    "resampled_day_7 = pd.concat([pd.DataFrame(X_resampled), pd.Series(y_resampled)], axis=1)\n",
    "resampled_day_7.columns = day_7.columns\n",
    "\n",
    "# Print the value counts of the target variable in the resampled data\n",
    "print(resampled_day_7['Label'].value_counts())"
   ]
  },
  {
   "cell_type": "code",
   "execution_count": 14,
   "id": "adf3f651",
   "metadata": {},
   "outputs": [],
   "source": [
    "day_6 = day_6.astype('int64')"
   ]
  },
  {
   "cell_type": "code",
   "execution_count": 19,
   "id": "6251409c",
   "metadata": {},
   "outputs": [],
   "source": [
    "day_1 = pd.read_csv(\"train/02-14-2018_clean.csv\")\n",
    "day_2 = pd.read_csv(\"train/02-15-2018_clean.csv\")\n",
    "day_3 = pd.read_csv(\"train/02-16-2018_clean.csv\")\n",
    "day_4 = pd.read_csv(\"train/02-20-2018_clean.csv\")\n",
    "day_5 = pd.read_csv(\"train/02-21-2018_clean.csv\")\n",
    "day_8 = pd.read_csv(\"train/02-28-2018_clean.csv\")\n",
    "day_9 = pd.read_csv(\"train/03-01-2018_clean.csv\")\n",
    "day_10 = pd.read_csv(\"train/03-02-2018_clean.csv\")"
   ]
  },
  {
   "cell_type": "code",
   "execution_count": 20,
   "id": "6f16a556",
   "metadata": {},
   "outputs": [],
   "source": [
    "import pandas as pd\n",
    "\n",
    "# repeat for all 10 files\n",
    "\n",
    "# randomly sample 10% of rows from each dataframe\n",
    "sampled_day_1 = day_1.sample(frac=0.1, random_state=42)\n",
    "sampled_day_2 = day_2.sample(frac=0.1, random_state=42)\n",
    "sampled_day_3 = day_3.sample(frac=0.1, random_state=42)\n",
    "sampled_day_4 = day_4.sample(frac=0.1, random_state=42)\n",
    "sampled_day_5 = day_5.sample(frac=0.1, random_state=42)\n",
    "sampled_day_6 = day_6.sample(frac=0.1, random_state=42)\n",
    "sampled_day_7 = day_7.sample(frac=0.1, random_state=42)\n",
    "sampled_day_8 = day_8.sample(frac=0.1, random_state=42)\n",
    "sampled_day_9 = day_9.sample(frac=0.1, random_state=42)\n",
    "sampled_day_10 = day_10.sample(frac=0.1, random_state=42)\n",
    "\n",
    "# concatenate sampled dataframes into a single dataframe\n",
    "data = pd.concat([sampled_day_1, sampled_day_2, sampled_day_3, sampled_day_4, sampled_day_5, sampled_day_6, sampled_day_7, sampled_day_8, sampled_day_9, sampled_day_10], ignore_index=True)\n"
   ]
  },
  {
   "cell_type": "code",
   "execution_count": 25,
   "id": "aba82159",
   "metadata": {},
   "outputs": [
    {
     "name": "stdout",
     "output_type": "stream",
     "text": [
      "Dst Port         0\n",
      "Protocol         0\n",
      "Flow Duration    0\n",
      "Tot Fwd Pkts     0\n",
      "Tot Bwd Pkts     0\n",
      "                ..\n",
      "Idle Max         0\n",
      "Idle Min         0\n",
      "Date             0\n",
      "Time             0\n",
      "Label            0\n",
      "Length: 71, dtype: int64\n",
      "Dst Port         0\n",
      "Protocol         0\n",
      "Flow Duration    0\n",
      "Tot Fwd Pkts     0\n",
      "Tot Bwd Pkts     0\n",
      "                ..\n",
      "Idle Max         0\n",
      "Idle Min         0\n",
      "Date             0\n",
      "Time             0\n",
      "Label            0\n",
      "Length: 71, dtype: int64\n"
     ]
    }
   ],
   "source": [
    "import numpy as np\n",
    "print(data.isna().sum())\n",
    "print(np.isinf(data).sum())"
   ]
  },
  {
   "cell_type": "code",
   "execution_count": 30,
   "id": "f495072f",
   "metadata": {},
   "outputs": [],
   "source": [
    "data = data.fillna(data.mean())"
   ]
  },
  {
   "cell_type": "code",
   "execution_count": 28,
   "id": "7e761478",
   "metadata": {},
   "outputs": [],
   "source": [
    "data.dropna(inplace=True)"
   ]
  },
  {
   "cell_type": "code",
   "execution_count": 29,
   "id": "83b704e2",
   "metadata": {},
   "outputs": [],
   "source": [
    "data = data.astype('int64')"
   ]
  },
  {
   "cell_type": "code",
   "execution_count": 35,
   "id": "e904c3af",
   "metadata": {},
   "outputs": [],
   "source": [
    "data1 = data.sample(frac=0.1, random_state=42)"
   ]
  },
  {
   "cell_type": "code",
   "execution_count": 36,
   "id": "6713d663",
   "metadata": {},
   "outputs": [
    {
     "name": "stdout",
     "output_type": "stream",
     "text": [
      "Accuracy: 0.991824894514768\n"
     ]
    }
   ],
   "source": [
    "from sklearn.model_selection import train_test_split\n",
    "from sklearn.tree import DecisionTreeClassifier\n",
    "from sklearn.ensemble import AdaBoostClassifier\n",
    "from sklearn.metrics import accuracy_score\n",
    "\n",
    "# assuming \"data\" is your dataset and \"label\" is the column containing the labels\n",
    "X = data1.drop('Label', axis=1)\n",
    "y = data1['Label']\n",
    "\n",
    "# split the dataset into training and testing sets with a 70:30 ratio\n",
    "X_train, X_test, y_train, y_test = train_test_split(X, y, test_size=0.3, random_state=42)\n",
    "\n",
    "# create an AdaBoostClassifier with decision tree as the base estimator\n",
    "clf = AdaBoostClassifier(n_estimators=50, base_estimator=DecisionTreeClassifier())\n",
    "\n",
    "# train the classifier on the \"train\" dataset\n",
    "clf.fit(X_train, y_train)\n",
    "\n",
    "# predict the labels of the \"test\" dataset using the trained classifier\n",
    "y_pred = clf.predict(X_test)\n",
    "\n",
    "# evaluate the performance of the classifier on the \"test\" dataset using accuracy score\n",
    "accuracy = accuracy_score(y_test, y_pred)\n",
    "print(\"Accuracy:\", accuracy)\n"
   ]
  },
  {
   "cell_type": "code",
   "execution_count": 38,
   "id": "094e4ac0",
   "metadata": {},
   "outputs": [
    {
     "name": "stdout",
     "output_type": "stream",
     "text": [
      "Precision: [0.99208832 1.         1.         1.         0.72774869]\n",
      "Recall: [0.99839526 0.99848943 0.99125364 0.9990296  0.35732648]\n",
      "F1-score: [0.9952318  0.99924414 0.99560761 0.99951456 0.47931034]\n",
      "Confusion Matrix:\n",
      "[[32352     0     0     0    52]\n",
      " [    1   661     0     0     0]\n",
      " [    3     0   340     0     0]\n",
      " [    4     0     0  4118     0]\n",
      " [  250     0     0     0   139]]\n"
     ]
    }
   ],
   "source": [
    "from sklearn.metrics import precision_recall_fscore_support, confusion_matrix\n",
    "\n",
    "precision, recall, f1_score, support = precision_recall_fscore_support(y_test, y_pred)\n",
    "print(\"Precision:\", precision)\n",
    "print(\"Recall:\", recall)\n",
    "print(\"F1-score:\", f1_score)\n",
    "\n",
    "# calculate the confusion matrix\n",
    "cm = confusion_matrix(y_test, y_pred)\n",
    "print(\"Confusion Matrix:\")\n",
    "print(cm)"
   ]
  },
  {
   "cell_type": "code",
   "execution_count": 40,
   "id": "5c48ce57",
   "metadata": {},
   "outputs": [
    {
     "name": "stdout",
     "output_type": "stream",
     "text": [
      "Accuracy: 0.991824894514768\n",
      "Precision: 0.9904463092733498\n",
      "Recall: 0.991824894514768\n",
      "F1-score: 0.9904782413434563\n"
     ]
    }
   ],
   "source": [
    "from sklearn.metrics import precision_recall_fscore_support\n",
    "\n",
    "precision, recall, f1_score, _ = precision_recall_fscore_support(y_test, y_pred, average='weighted')\n",
    "\n",
    "print(\"Accuracy:\", accuracy)\n",
    "print(\"Precision:\", precision)\n",
    "print(\"Recall:\", recall)\n",
    "print(\"F1-score:\", f1_score)\n"
   ]
  },
  {
   "cell_type": "code",
   "execution_count": 41,
   "id": "48be1cab",
   "metadata": {},
   "outputs": [
    {
     "name": "stdout",
     "output_type": "stream",
     "text": [
      "[[32352     0     0     0    52]\n",
      " [    1   661     0     0     0]\n",
      " [    3     0   340     0     0]\n",
      " [    4     0     0  4118     0]\n",
      " [  250     0     0     0   139]]\n"
     ]
    }
   ],
   "source": [
    "print(cm)"
   ]
  },
  {
   "cell_type": "code",
   "execution_count": 43,
   "id": "6e537c84",
   "metadata": {},
   "outputs": [
    {
     "data": {
      "image/png": "[encoded data removed]",
      "text/plain": [
       "<Figure size 800x800 with 2 Axes>"
      ]
     },
     "metadata": {},
     "output_type": "display_data"
    }
   ],
   "source": [
    "import numpy as np\n",
    "import matplotlib.pyplot as plt\n",
    "from sklearn.metrics import confusion_matrix\n",
    "\n",
    "# assuming \"y_test\" and \"y_pred\" are the ground truth labels and predicted labels, respectively\n",
    "cm = confusion_matrix(y_test, y_pred)\n",
    "\n",
    "# define class labels\n",
    "class_names = ['Benign', 'Bot', 'Brute Force', 'Dos', 'Infiltration', 'SQL Injection']\n",
    "\n",
    "# plot the confusion matrix\n",
    "plt.figure(figsize=(8, 8))\n",
    "plt.imshow(cm, interpolation='nearest', cmap=plt.cm.Blues)\n",
    "plt.title('Confusion Matrix')\n",
    "plt.colorbar()\n",
    "tick_marks = np.arange(len(class_names))\n",
    "plt.xticks(tick_marks, class_names, rotation=45)\n",
    "plt.yticks(tick_marks, class_names)\n",
    "\n",
    "# plot the text annotations\n",
    "thresh = cm.max() / 2.\n",
    "for i, j in np.ndindex(cm.shape):\n",
    "    plt.text(j, i, format(cm[i, j], 'd'),\n",
    "             horizontalalignment=\"center\",\n",
    "             color=\"white\" if cm[i, j] > thresh else \"black\")\n",
    "\n",
    "plt.tight_layout()\n",
    "plt.ylabel('True Label')\n",
    "plt.xlabel('Predicted Label')\n",
    "plt.show()\n",
    "\n"
   ]
  },
  {
   "cell_type": "code",
   "execution_count": 45,
   "id": "2cb36d14",
   "metadata": {},
   "outputs": [
    {
     "name": "stdout",
     "output_type": "stream",
     "text": [
      "Accuracy on test data: 0.9918562131422758\n"
     ]
    }
   ],
   "source": [
    "import pandas as pd\n",
    "from sklearn.metrics import accuracy_score\n",
    "\n",
    "# Load the 'test.csv' dataset into a pandas dataframe\n",
    "test_data = pd.read_csv('test/test.csv')\n",
    "test_data = test_data.astype('int64')\n",
    "# Preprocess the data (e.g., remove missing values, encode categorical variables, etc.)\n",
    "# ...\n",
    "\n",
    "# Split the preprocessed 'test' data into X_test and y_test\n",
    "X_test = test_data.drop('Label', axis=1)\n",
    "y_test = test_data['Label']\n",
    "\n",
    "# Use the trained model to predict the labels of X_test\n",
    "y_pred = clf.predict(X_test)\n",
    "\n",
    "# Compare the predicted labels with the true labels (y_test) and compute the accuracy\n",
    "accuracy = accuracy_score(y_test, y_pred)\n",
    "\n",
    "print('Accuracy on test data:', accuracy)\n"
   ]
  },
  {
   "cell_type": "code",
   "execution_count": 46,
   "id": "e80ac38f",
   "metadata": {},
   "outputs": [
    {
     "name": "stdout",
     "output_type": "stream",
     "text": [
      "Accuracy: 0.9918562131422758\n",
      "Precision: 0.9904582757959438\n",
      "Recall: 0.9918562131422758\n",
      "F1-score: 0.9904674663804662\n"
     ]
    }
   ],
   "source": [
    "precision, recall, f1_score, _ = precision_recall_fscore_support(y_test, y_pred, average='weighted')\n",
    "\n",
    "print(\"Accuracy:\", accuracy)\n",
    "print(\"Precision:\", precision)\n",
    "print(\"Recall:\", recall)\n",
    "print(\"F1-score:\", f1_score)"
   ]
  },
  {
   "cell_type": "code",
   "execution_count": null,
   "id": "f10b17b9",
   "metadata": {},
   "outputs": [],
   "source": []
  }
 ],
 "metadata": {
  "kernelspec": {
   "display_name": "Python 3 (ipykernel)",
   "language": "python",
   "name": "python3"
  },
  "language_info": {
   "codemirror_mode": {
    "name": "ipython",
    "version": 3
   },
   "file_extension": ".py",
   "mimetype": "text/x-python",
   "name": "python",
   "nbconvert_exporter": "python",
   "pygments_lexer": "ipython3",
   "version": "3.9.13"
  }
 },
 "nbformat": 4,
 "nbformat_minor": 5
}

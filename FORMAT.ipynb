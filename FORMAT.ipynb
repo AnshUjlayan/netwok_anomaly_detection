{
 "cells": [
  {
   "cell_type": "markdown",
   "id": "c058667f",
   "metadata": {},
   "source": [
    "# Technique"
   ]
  },
  {
   "cell_type": "markdown",
   "id": "980d67c3",
   "metadata": {},
   "source": [
    "## Import data of day 6 & 7"
   ]
  },
  {
   "cell_type": "code",
   "execution_count": null,
   "id": "1e6111f1",
   "metadata": {},
   "outputs": [],
   "source": [
    "import pandas as pd\n",
    "day_6 = pd.read_csv('train/02-22-2018_clean.csv')\n",
    "day_7 = pd.read_csv('train/02-23-2018_clean.csv')"
   ]
  },
  {
   "cell_type": "markdown",
   "id": "a21bcef6",
   "metadata": {},
   "source": [
    "## Apply SMOTE"
   ]
  },
  {
   "cell_type": "markdown",
   "id": "2e4771ef",
   "metadata": {},
   "source": [
    "### day 6"
   ]
  },
  {
   "cell_type": "code",
   "execution_count": null,
   "id": "c7cbe253",
   "metadata": {},
   "outputs": [],
   "source": []
  },
  {
   "cell_type": "markdown",
   "id": "4a8dd861",
   "metadata": {},
   "source": [
    "### day 7"
   ]
  },
  {
   "cell_type": "code",
   "execution_count": null,
   "id": "dab98bba",
   "metadata": {},
   "outputs": [],
   "source": []
  },
  {
   "cell_type": "markdown",
   "id": "53c3daab",
   "metadata": {},
   "source": [
    "### concatenate data"
   ]
  },
  {
   "cell_type": "code",
   "execution_count": null,
   "id": "38fade0f",
   "metadata": {},
   "outputs": [],
   "source": [
    "data = pd.concat([day_6, day_7], ignore_index=True)"
   ]
  },
  {
   "cell_type": "markdown",
   "id": "cbb2908e",
   "metadata": {},
   "source": [
    "## Applying ML technique X"
   ]
  },
  {
   "cell_type": "code",
   "execution_count": null,
   "id": "4b8856a3",
   "metadata": {},
   "outputs": [],
   "source": []
  },
  {
   "cell_type": "markdown",
   "id": "a2b88059",
   "metadata": {},
   "source": [
    "## Model evaluation"
   ]
  },
  {
   "cell_type": "markdown",
   "id": "46aae62e",
   "metadata": {},
   "source": [
    "### Confusion matrix"
   ]
  },
  {
   "cell_type": "code",
   "execution_count": null,
   "id": "ef9e8606",
   "metadata": {},
   "outputs": [],
   "source": []
  },
  {
   "cell_type": "markdown",
   "id": "3be81327",
   "metadata": {},
   "source": [
    "### Accuracy,  Precision, Recall, F1-score"
   ]
  },
  {
   "cell_type": "code",
   "execution_count": null,
   "id": "93ea4ddf",
   "metadata": {},
   "outputs": [],
   "source": []
  },
  {
   "cell_type": "markdown",
   "id": "3a521c05",
   "metadata": {},
   "source": [
    "### Confusion matrix visualized"
   ]
  },
  {
   "cell_type": "code",
   "execution_count": null,
   "id": "0a5c7963",
   "metadata": {},
   "outputs": [],
   "source": []
  },
  {
   "cell_type": "markdown",
   "id": "4a1571ae",
   "metadata": {},
   "source": [
    "## Conclusion"
   ]
  },
  {
   "cell_type": "code",
   "execution_count": null,
   "id": "9b42f356",
   "metadata": {},
   "outputs": [],
   "source": []
  }
 ],
 "metadata": {
  "kernelspec": {
   "display_name": "Python 3 (ipykernel)",
   "language": "python",
   "name": "python3"
  },
  "language_info": {
   "codemirror_mode": {
    "name": "ipython",
    "version": 3
   },
   "file_extension": ".py",
   "mimetype": "text/x-python",
   "name": "python",
   "nbconvert_exporter": "python",
   "pygments_lexer": "ipython3",
   "version": "3.9.13"
  }
 },
 "nbformat": 4,
 "nbformat_minor": 5
}

{
 "cells": [
  {
   "cell_type": "markdown",
   "id": "6d05fafb",
   "metadata": {},
   "source": [
    "# XGBoost"
   ]
  },
  {
   "cell_type": "code",
   "execution_count": 1,
   "id": "e654a6d3",
   "metadata": {
    "scrolled": true
   },
   "outputs": [
    {
     "name": "stdout",
     "output_type": "stream",
     "text": [
      "(12639793, 71)\n"
     ]
    }
   ],
   "source": [
    "import pandas as pd\n",
    "\n",
    "# Define the list of file names\n",
    "file_names = [\n",
    "    \"../train/02-14-2018_clean.csv\",\n",
    "    \"../train/02-15-2018_clean.csv\",\n",
    "    \"../train/02-16-2018_clean.csv\",\n",
    "    \"../train/02-20-2018_clean.csv\",\n",
    "    \"../train/02-21-2018_clean.csv\",\n",
    "    \"../train/02-22-2018_clean.csv\",\n",
    "    \"../train/02-23-2018_clean.csv\",\n",
    "    \"../train/02-28-2018_clean.csv\",\n",
    "    \"../train/03-01-2018_clean.csv\",\n",
    "    \"../train/03-02-2018_clean.csv\"\n",
    "]\n",
    "\n",
    "# Initialize an empty list to store the DataFrames\n",
    "dfs = []\n",
    "\n",
    "# Loop through the file names and read each file as a DataFrame\n",
    "for file_name in file_names:\n",
    "    df = pd.read_csv(file_name)\n",
    "    dfs.append(df)\n",
    "\n",
    "# Concatenate the DataFrames into a single DataFrame\n",
    "df = pd.concat(dfs, ignore_index=True)\n",
    "\n",
    "# Print the shape of the combined DataFrame\n",
    "print(df.shape)"
   ]
  },
  {
   "cell_type": "code",
   "execution_count": 2,
   "id": "08c0cba2",
   "metadata": {},
   "outputs": [
    {
     "name": "stdout",
     "output_type": "stream",
     "text": [
      "(3159955, 72)\n"
     ]
    }
   ],
   "source": [
    "test = pd.read_csv(\"../test/test.csv\")\n",
    "print(test.shape)"
   ]
  },
  {
   "cell_type": "markdown",
   "id": "af2c872d",
   "metadata": {},
   "source": [
    "## Dropping the irrelevant features"
   ]
  },
  {
   "cell_type": "code",
   "execution_count": 3,
   "id": "746f9dad",
   "metadata": {},
   "outputs": [
    {
     "data": {
      "text/plain": [
       "36"
      ]
     },
     "execution_count": 3,
     "metadata": {},
     "output_type": "execute_result"
    }
   ],
   "source": [
    "features = [\n",
    "    \"PSH Flag Cnt\",\n",
    "    \"Dst Port\",\n",
    "    \"Init Fwd Win Byts\",\n",
    "    \"RST Flag Cnt\",\n",
    "    \"Fwd PSH Flags\",\n",
    "    \"Bwd IAT Max\",\n",
    "    \"Date\",\n",
    "    \"Fwd IAT Tot\",\n",
    "    \"Fwd IAT Max\",\n",
    "    \"Fwd IAT Min\",\n",
    "    \"Fwd Seg Size Min\",\n",
    "    \"Bwd Seg Size Avg\",\n",
    "    \"Flow Duration\",\n",
    "    \"Init Bwd Win Byts\",\n",
    "    \"Fwd IAT Mean\",\n",
    "    \"Pkt Len Std\",\n",
    "    \"Bwd Pkts/s\",\n",
    "    \"Time\",\n",
    "    \"Bwd Pkt Len Mean\",\n",
    "    \"Fwd Pkt Len Max\",\n",
    "    \"Fwd Pkts/s\",\n",
    "    \"Bwd Header Len\",\n",
    "    \"Bwd IAT Tot\",\n",
    "    \"Pkt Len Max\",\n",
    "    \"Bwd Pkt Len Min\",\n",
    "    \"Bwd Pkt Len Max\",\n",
    "    \"Subflow Fwd Byts\",\n",
    "    \"Flow IAT Max\",\n",
    "    \"ACK Flag Cnt\",\n",
    "    \"Flow IAT Mean\",\n",
    "    \"TotLen Fwd Pkts\",\n",
    "    \"Fwd Header Len\",\n",
    "    \"Protocol\",\n",
    "    \"ECE Flag Cnt\",\n",
    "    \"Pkt Len Var\",\n",
    "    \"SYN Flag Cnt\"\n",
    "]\n",
    "len(features)"
   ]
  },
  {
   "cell_type": "code",
   "execution_count": 5,
   "id": "416f119a",
   "metadata": {},
   "outputs": [],
   "source": [
    "cols_to_drop = [col for col in df.columns if col not in features and col != 'Label']\n",
    "df.drop(cols_to_drop, axis=1, inplace=True)\n",
    "test.drop(cols_to_drop, axis=1, inplace=True)"
   ]
  },
  {
   "cell_type": "markdown",
   "id": "b657e2df",
   "metadata": {},
   "source": [
    "## training the model"
   ]
  },
  {
   "cell_type": "code",
   "execution_count": 9,
   "id": "5ae3dd02",
   "metadata": {},
   "outputs": [],
   "source": [
    "from xgboost import XGBClassifier\n",
    "\n",
    "X_train = df.drop('Label', axis=1)\n",
    "y_train = df['Label']\n",
    "X_test = test.drop('Label', axis=1)\n",
    "y_test = test['Label']"
   ]
  },
  {
   "cell_type": "code",
   "execution_count": null,
   "id": "2499fa33",
   "metadata": {},
   "outputs": [],
   "source": [
    "model1 = XGBClassifier(n_jobs=8)\n",
    "model1.fit(X_train, y_train)"
   ]
  },
  {
   "cell_type": "code",
   "execution_count": 8,
   "id": "04b12d69",
   "metadata": {},
   "outputs": [
    {
     "ename": "NameError",
     "evalue": "name 'XGBClassifier' is not defined",
     "output_type": "error",
     "traceback": [
      "\u001b[0;31m---------------------------------------------------------------------------\u001b[0m",
      "\u001b[0;31mNameError\u001b[0m                                 Traceback (most recent call last)",
      "\u001b[0;32m/var/folders/7t/6qs561wj79vg29_cgy74ngwh0000gn/T/ipykernel_17543/3223834147.py\u001b[0m in \u001b[0;36m<module>\u001b[0;34m\u001b[0m\n\u001b[0;32m----> 1\u001b[0;31m \u001b[0mmodel2\u001b[0m \u001b[0;34m=\u001b[0m \u001b[0mXGBClassifier\u001b[0m\u001b[0;34m(\u001b[0m\u001b[0mn_estimators\u001b[0m\u001b[0;34m=\u001b[0m\u001b[0;36m1000\u001b[0m\u001b[0;34m,\u001b[0m \u001b[0mlearning_rate\u001b[0m\u001b[0;34m=\u001b[0m\u001b[0;36m0.05\u001b[0m\u001b[0;34m,\u001b[0m \u001b[0mn_jobs\u001b[0m\u001b[0;34m=\u001b[0m\u001b[0;36m8\u001b[0m\u001b[0;34m)\u001b[0m\u001b[0;34m\u001b[0m\u001b[0;34m\u001b[0m\u001b[0m\n\u001b[0m\u001b[1;32m      2\u001b[0m \u001b[0mmodel2\u001b[0m\u001b[0;34m.\u001b[0m\u001b[0mfit\u001b[0m\u001b[0;34m(\u001b[0m\u001b[0mX_train\u001b[0m\u001b[0;34m,\u001b[0m \u001b[0my_train\u001b[0m\u001b[0;34m,\u001b[0m \u001b[0mearly_stopping_rounds\u001b[0m\u001b[0;34m=\u001b[0m\u001b[0;36m5\u001b[0m\u001b[0;34m,\u001b[0m \u001b[0meval_set\u001b[0m\u001b[0;34m=\u001b[0m\u001b[0;34m[\u001b[0m\u001b[0;34m(\u001b[0m\u001b[0mX_test\u001b[0m\u001b[0;34m,\u001b[0m \u001b[0my_test\u001b[0m\u001b[0;34m)\u001b[0m\u001b[0;34m]\u001b[0m\u001b[0;34m)\u001b[0m\u001b[0;34m\u001b[0m\u001b[0;34m\u001b[0m\u001b[0m\n",
      "\u001b[0;31mNameError\u001b[0m: name 'XGBClassifier' is not defined"
     ]
    }
   ],
   "source": [
    "model2 = XGBClassifier(n_estimators=1000, learning_rate=0.05, n_jobs=8)\n",
    "model2.fit(X_train, y_train, early_stopping_rounds=5, eval_set=[(X_test, y_test)])"
   ]
  },
  {
   "cell_type": "code",
   "execution_count": null,
   "id": "0be57392",
   "metadata": {},
   "outputs": [],
   "source": [
    "model2 = XGBClassifier(n_estimators=1000, learning_rate=0.05, n_jobs=8)\n",
    "model2.fit(X_train, y_train, early_stopping_rounds=5, eval_set=[(X_test, y_test)])"
   ]
  },
  {
   "cell_type": "code",
   "execution_count": null,
   "id": "909f4bde",
   "metadata": {},
   "outputs": [],
   "source": [
    "# Calculate scale_pos_weight value\n",
    "class_counts = y_train.value_counts()\n",
    "scale_pos_weight = class_counts[0] / class_counts[5]\n",
    "\n",
    "# Create and train the model\n",
    "model3 = XGBClassifier(n_estimators=1000, learning_rate=0.05, n_jobs=8, scale_pos_weight=scale_pos_weight)\n",
    "model3.fit(X_train, y_train, early_stopping_rounds=5, eval_set=[(X_test, y_test)])"
   ]
  },
  {
   "cell_type": "code",
   "execution_count": null,
   "id": "154c5504",
   "metadata": {},
   "outputs": [],
   "source": [
    "y_pred_model1 = model1.predict(X_test)\n",
    "y_pred_model2 = model2.predict(X_test)"
   ]
  },
  {
   "cell_type": "markdown",
   "id": "adb95b85",
   "metadata": {},
   "source": [
    "## Model Evaluation"
   ]
  },
  {
   "cell_type": "code",
   "execution_count": null,
   "id": "bff93d6f",
   "metadata": {},
   "outputs": [],
   "source": [
    "from sklearn.metrics import precision_score, recall_score, f1_score, accuracy_score\n",
    "\n",
    "# For model 1\n",
    "accuracy_model1 = accuracy_score(y_test, y_pred_model1)\n",
    "precision_model1 = precision_score(y_test, y_pred_model1, average='weighted')\n",
    "recall_model1 = recall_score(y_test, y_pred_model1, average='weighted')\n",
    "f1_model1 = f1_score(y_test, y_pred_model1, average='weighted')\n",
    "\n",
    "print(\"Model 1 Accuracy: \", accuracy_model1)\n",
    "print(\"Model 1 Precision: \", precision_model1)\n",
    "print(\"Model 1 Recall: \", recall_model1)\n",
    "print(\"Model 1 F1 Score: \", f1_model1)"
   ]
  },
  {
   "cell_type": "code",
   "execution_count": null,
   "id": "ea589573",
   "metadata": {},
   "outputs": [],
   "source": [
    "# For model 2\n",
    "accuracy_model2 = accuracy_score(y_test, y_pred_model2)\n",
    "precision_model2 = precision_score(y_test, y_pred_model2, average='weighted')\n",
    "recall_model2 = recall_score(y_test, y_pred_model2, average='weighted')\n",
    "f1_model2 = f1_score(y_test, y_pred_model2, average='weighted')\n",
    "\n",
    "print(\"Model 2 Accuracy: \", accuracy_model2)\n",
    "print(\"Model 2 Precision: \", precision_model2)\n",
    "print(\"Model 2 Recall: \", recall_model2)\n",
    "print(\"Model 2 F1 Score: \", f1_model2)"
   ]
  },
  {
   "cell_type": "markdown",
   "id": "f4250c20",
   "metadata": {},
   "source": [
    "### Confusion matrices"
   ]
  },
  {
   "cell_type": "code",
   "execution_count": null,
   "id": "5180fb1b",
   "metadata": {},
   "outputs": [],
   "source": [
    "import seaborn as sns\n",
    "from sklearn.metrics import confusion_matrix\n",
    "import matplotlib.pyplot as plt\n",
    "\n",
    "# Compute confusion matrix for model1\n",
    "cm_model1 = confusion_matrix(y_test, y_pred_model1)\n",
    "\n",
    "plt.figure(figsize=(8, 6))\n",
    "sns.heatmap(cm_model1, annot=True, cbar=None, cmap=\"YlGnBu\", fmt=\"d\")\n",
    "plt.title(\"Confusion Matrix for Model 1\"), plt.tight_layout()\n",
    "plt.ylabel(\"True Class\"), plt.xlabel(\"Predicted Class\")\n",
    "plt.show()\n",
    "\n",
    "# Compute confusion matrix for model2\n",
    "cm_model2 = confusion_matrix(y_test, y_pred_model2)\n",
    "\n",
    "plt.figure(figsize=(8, 6))\n",
    "sns.heatmap(cm_model2, annot=True, cbar=None, cmap=\"YlGnBu\", fmt=\"d\")\n",
    "plt.title(\"Confusion Matrix for Model 2\"), plt.tight_layout()\n",
    "plt.ylabel(\"True Class\"), plt.xlabel(\"Predicted Class\")\n",
    "plt.show()"
   ]
  }
 ],
 "metadata": {
  "kernelspec": {
   "display_name": "Python 3 (ipykernel)",
   "language": "python",
   "name": "python3"
  },
  "language_info": {
   "codemirror_mode": {
    "name": "ipython",
    "version": 3
   },
   "file_extension": ".py",
   "mimetype": "text/x-python",
   "name": "python",
   "nbconvert_exporter": "python",
   "pygments_lexer": "ipython3",
   "version": "3.9.13"
  }
 },
 "nbformat": 4,
 "nbformat_minor": 5
}

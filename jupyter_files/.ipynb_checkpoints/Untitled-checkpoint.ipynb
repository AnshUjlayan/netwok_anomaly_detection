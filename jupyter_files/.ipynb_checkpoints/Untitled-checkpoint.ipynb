{
 "cells": [
  {
   "cell_type": "code",
   "execution_count": 6,
   "id": "da335dad",
   "metadata": {},
   "outputs": [
    {
     "name": "stdout",
     "output_type": "stream",
     "text": [
      "            Dst Port       Protocol  Flow Duration   Tot Fwd Pkts  \\\n",
      "count  658357.000000  658357.000000   6.583570e+05  658357.000000   \n",
      "mean     6210.101844       8.683313   8.623561e+06       7.657043   \n",
      "std     16052.545666       4.876151   1.116531e+09      50.988018   \n",
      "min         0.000000       0.000000  -6.814020e+11       1.000000   \n",
      "25%        53.000000       6.000000   3.090000e+02       1.000000   \n",
      "50%        80.000000       6.000000   4.774600e+04       2.000000   \n",
      "75%       445.000000      17.000000   1.737594e+06       9.000000   \n",
      "max     65533.000000      17.000000   1.200000e+08    5115.000000   \n",
      "\n",
      "        Tot Bwd Pkts  TotLen Fwd Pkts  TotLen Bwd Pkts  Fwd Pkt Len Max  \\\n",
      "count  658357.000000     6.583570e+05     6.583570e+05    658357.000000   \n",
      "mean        8.948106     5.672157e+02     5.812166e+03       222.534939   \n",
      "std       119.223892     1.678200e+04     1.722983e+05       306.766910   \n",
      "min         0.000000     0.000000e+00     0.000000e+00         0.000000   \n",
      "25%         1.000000     0.000000e+00     0.000000e+00         0.000000   \n",
      "50%         1.000000     5.500000e+01     1.320000e+02        45.000000   \n",
      "75%         7.000000     1.128000e+03     1.581000e+03       564.000000   \n",
      "max      9198.000000     8.568642e+06     1.339773e+07     64440.000000   \n",
      "\n",
      "       Fwd Pkt Len Min  Fwd Pkt Len Mean  ...    Active Std    Active Max  \\\n",
      "count    658357.000000     658357.000000  ...  6.583570e+05  6.583570e+05   \n",
      "mean         10.677218         49.219970  ...  2.741151e+04  1.119815e+05   \n",
      "std          21.378682         55.480053  ...  2.544328e+05  8.229102e+05   \n",
      "min           0.000000          0.000000  ...  0.000000e+00  0.000000e+00   \n",
      "25%           0.000000          0.000000  ...  0.000000e+00  0.000000e+00   \n",
      "50%           0.000000         39.000000  ...  0.000000e+00  0.000000e+00   \n",
      "75%          22.000000         80.000000  ...  0.000000e+00  0.000000e+00   \n",
      "max        1460.000000      11217.000000  ...  5.723446e+07  1.102401e+08   \n",
      "\n",
      "         Active Min     Idle Mean      Idle Std      Idle Max      Idle Min  \\\n",
      "count  6.583570e+05  6.583570e+05  6.583570e+05  6.583570e+05  6.583570e+05   \n",
      "mean   5.057200e+04  3.807054e+06  8.420517e+05  5.797564e+06  2.694355e+06   \n",
      "std    6.092066e+05  5.868051e+08  4.192262e+08  1.680641e+09  1.585589e+07   \n",
      "min    0.000000e+00  0.000000e+00  0.000000e+00  0.000000e+00  0.000000e+00   \n",
      "25%    0.000000e+00  0.000000e+00  0.000000e+00  0.000000e+00  0.000000e+00   \n",
      "50%    0.000000e+00  0.000000e+00  0.000000e+00  0.000000e+00  0.000000e+00   \n",
      "75%    0.000000e+00  0.000000e+00  0.000000e+00  0.000000e+00  0.000000e+00   \n",
      "max    1.102401e+08  3.394503e+11  2.432682e+11  9.797810e+11  7.758000e+09   \n",
      "\n",
      "               Date           Time          Label  \n",
      "count  6.583570e+05  658357.000000  658357.000000  \n",
      "mean   2.018021e+07   75091.919939       0.380581  \n",
      "std    1.183407e+03   39649.911276       0.785061  \n",
      "min    1.970010e+07   10000.000000       0.000000  \n",
      "25%    2.018021e+07   30732.000000       0.000000  \n",
      "50%    2.018021e+07   92231.000000       0.000000  \n",
      "75%    2.018021e+07  110429.000000       0.000000  \n",
      "max    2.018021e+07  125959.000000       2.000000  \n",
      "\n",
      "[8 rows x 71 columns]\n"
     ]
    }
   ],
   "source": [
    "import pandas as pd\n",
    "\n",
    "# Load the network traffic data into a DataFrame\n",
    "df = pd.read_csv('../train/02-14-2018_clean.csv')\n",
    "\n",
    "# Extract statistical features\n",
    "statistical_features = data.describe()\n",
    "\n",
    "# Print the extracted features\n",
    "print(statistical_features)"
   ]
  },
  {
   "cell_type": "code",
   "execution_count": 13,
   "id": "8a74c60f",
   "metadata": {},
   "outputs": [],
   "source": [
    "corr_matrix = df.corr()"
   ]
  },
  {
   "cell_type": "code",
   "execution_count": 14,
   "id": "57c429a0",
   "metadata": {},
   "outputs": [
    {
     "name": "stdout",
     "output_type": "stream",
     "text": [
      "['Dst Port', 'Protocol', 'Fwd Pkt Len Max', 'Fwd Pkt Len Min', 'Fwd Pkt Len Mean', 'Fwd Pkt Len Std', 'Bwd Pkt Len Min', 'Bwd Pkt Len Mean', 'Pkt Len Min', 'Pkt Len Mean', 'ACK Flag Cnt', 'Pkt Size Avg', 'Fwd Seg Size Avg', 'Bwd Seg Size Avg', 'Init Fwd Win Byts', 'Init Bwd Win Byts', 'Fwd Seg Size Min', 'Time']\n"
     ]
    }
   ],
   "source": [
    "correlation_threshold = 0.1\n",
    "\n",
    "# Select columns with correlation above the threshold with the target variable\n",
    "relevant_columns = corr_matrix[abs(corr_matrix['Label']) > correlation_threshold].index.tolist()\n",
    "\n",
    "# Exclude the 'Label' column from the relevant columns\n",
    "relevant_columns.remove('Label')\n",
    "\n",
    "# Print the relevant columns\n",
    "print(relevant_columns)"
   ]
  },
  {
   "cell_type": "code",
   "execution_count": 15,
   "id": "59e55cba",
   "metadata": {},
   "outputs": [
    {
     "name": "stdout",
     "output_type": "stream",
     "text": [
      "18\n"
     ]
    }
   ],
   "source": [
    "print(len(relevant_columns))"
   ]
  },
  {
   "cell_type": "code",
   "execution_count": 12,
   "id": "b90e6e2d",
   "metadata": {},
   "outputs": [
    {
     "name": "stdout",
     "output_type": "stream",
     "text": [
      "(12639793, 71)\n"
     ]
    }
   ],
   "source": [
    "import pandas as pd\n",
    "\n",
    "# Define the list of file names\n",
    "file_names = [\n",
    "    \"../train/02-14-2018_clean.csv\",\n",
    "    \"../train/02-15-2018_clean.csv\",\n",
    "    \"../train/02-16-2018_clean.csv\",\n",
    "    \"../train/02-20-2018_clean.csv\",\n",
    "    \"../train/02-21-2018_clean.csv\",\n",
    "    \"../train/02-22-2018_clean.csv\",\n",
    "    \"../train/02-23-2018_clean.csv\",\n",
    "    \"../train/02-28-2018_clean.csv\",\n",
    "    \"../train/03-01-2018_clean.csv\",\n",
    "    \"../train/03-02-2018_clean.csv\"\n",
    "]\n",
    "\n",
    "# Initialize an empty list to store the DataFrames\n",
    "dfs = []\n",
    "\n",
    "# Loop through the file names and read each file as a DataFrame\n",
    "for file_name in file_names:\n",
    "    df = pd.read_csv(file_name)\n",
    "    dfs.append(df)\n",
    "\n",
    "# Concatenate the DataFrames into a single DataFrame\n",
    "df = pd.concat(dfs, ignore_index=True)\n",
    "\n",
    "# Print the shape of the combined DataFrame\n",
    "print(df.shape)\n"
   ]
  },
  {
   "cell_type": "code",
   "execution_count": null,
   "id": "3383f89a",
   "metadata": {},
   "outputs": [],
   "source": [
    "import pandas as pd\n",
    "import xgboost as xgb\n",
    "from sklearn.model_selection import train_test_split\n",
    "\n",
    "# Split the DataFrame into features (X) and the target variable (y)\n",
    "X = df.drop('Label', axis=1)  # Assuming 'Label' is the name of the target variable column\n",
    "y = df['Label']\n",
    "\n",
    "# Split the data into training and testing sets\n",
    "X_train, X_test, y_train, y_test = train_test_split(X, y, test_size=0.2, random_state=42)\n",
    "\n",
    "# Create an XGBoost classifier\n",
    "clf = xgb.XGBClassifier()\n",
    "\n",
    "# Train the classifier on the training dataset\n",
    "clf.fit(X_train, y_train)\n",
    "\n",
    "# Evaluate the model on the testing dataset\n",
    "accuracy = clf.score(X_test, y_test)\n",
    "print(\"Accuracy:\", accuracy)\n"
   ]
  },
  {
   "cell_type": "code",
   "execution_count": null,
   "id": "36a39201",
   "metadata": {},
   "outputs": [],
   "source": []
  }
 ],
 "metadata": {
  "kernelspec": {
   "display_name": "Python 3 (ipykernel)",
   "language": "python",
   "name": "python3"
  },
  "language_info": {
   "codemirror_mode": {
    "name": "ipython",
    "version": 3
   },
   "file_extension": ".py",
   "mimetype": "text/x-python",
   "name": "python",
   "nbconvert_exporter": "python",
   "pygments_lexer": "ipython3",
   "version": "3.9.13"
  }
 },
 "nbformat": 4,
 "nbformat_minor": 5
}
